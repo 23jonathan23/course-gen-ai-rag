{
 "cells": [
  {
   "cell_type": "code",
   "execution_count": 1,
   "metadata": {},
   "outputs": [],
   "source": [
    "from os import getenv\n",
    "\n",
    "from dotenv import load_dotenv\n",
    "\n",
    "load_dotenv()\n",
    "\n",
    "OPEN_AI_AZURE_API_KEY = getenv(\"OPEN_AI_AZURE_API_KEY\")\n",
    "OPEN_AI_AZURE_ENDPOINT = getenv(\"OPEN_AI_AZURE_ENDPOINT\")\n",
    "OPEN_AI_AZURE_API_VERSION = getenv(\"OPEN_AI_AZURE_API_VERSION\")\n",
    "OPEN_AI_AZURE_MODEL = getenv(\"OPEN_AI_AZURE_MODEL\")"
   ]
  },
  {
   "cell_type": "code",
   "execution_count": 2,
   "metadata": {},
   "outputs": [],
   "source": [
    "from crewai import Agent, Task, Crew, LLM\n",
    "\n",
    "default_llm = LLM(\n",
    "    api_version=OPEN_AI_AZURE_API_VERSION,\n",
    "    model=f\"azure/{OPEN_AI_AZURE_MODEL}\",\n",
    "    base_url=OPEN_AI_AZURE_ENDPOINT,\n",
    "    api_key=OPEN_AI_AZURE_API_KEY\n",
    ")"
   ]
  },
  {
   "cell_type": "markdown",
   "metadata": {},
   "source": [
    "### Agentes\n",
    "- Pesquisador de Mercado\n",
    "- Analista de Tendências\n",
    "- Redator do Relatório"
   ]
  },
  {
   "cell_type": "code",
   "execution_count": 3,
   "metadata": {},
   "outputs": [],
   "source": [
    "pesquisador = Agent(\n",
    "    role=\"Pesquisador de Mercado\",\n",
    "    goal=\"Coletar e organizar informações relevantes sobre {sector}\",\n",
    "    backstory=\"\"\"\n",
    "    Você é um pesquisador experiente que analisa tendências de mercado e coleta\n",
    "    dados relevantes sobre {sector}. Seu trabalho é garantir que todas as \n",
    "    informações estejam atualizadas e bem documentadas.\n",
    "    \"\"\",\n",
    "    allow_delegation=False,\n",
    "    verbose=True,\n",
    "    llm=default_llm\n",
    ")"
   ]
  },
  {
   "cell_type": "code",
   "execution_count": 4,
   "metadata": {},
   "outputs": [],
   "source": [
    "analista = Agent(\n",
    "    role=\"Analista de Tendências\",\n",
    "    goal=\"Analisar os dados do setor {sector} e identificar padrões e oportunidades\",\n",
    "    backstory=\"\"\"\n",
    "    Você é um analista de mercado que examina os dados coletados para identificar\n",
    "    tendências emergentes, oportunidades e ameaças no setor {sector}\n",
    "    \"\"\",\n",
    "    allow_delegation=False,\n",
    "    verbose=True,\n",
    "    llm=default_llm\n",
    ")"
   ]
  },
  {
   "cell_type": "code",
   "execution_count": 5,
   "metadata": {},
   "outputs": [],
   "source": [
    "redator = Agent(\n",
    "    role=\"Redator de Relatórios\",\n",
    "    goal=\"Elaborar um relatório consolidado sobre a análise de mercado do setor {sector}.\",\n",
    "    backstory=\"\"\"\n",
    "    Você é um redator profissional que transforma anállises de mercado em um relatório\n",
    "    estruturado e compreensível para tomadores de decisão.\n",
    "    \"\"\",\n",
    "    allow_delegation=False,\n",
    "    verbose=True,\n",
    "    llm=default_llm\n",
    ")"
   ]
  },
  {
   "cell_type": "code",
   "execution_count": 6,
   "metadata": {},
   "outputs": [],
   "source": [
    "coleta_dados = Task(\n",
    "    description=(\n",
    "        \"1. Pesquisar e coletar informações atualizadas sobre {sector}.\"\n",
    "        \"2. Identificar os principais players, tendências e estatísticas do setor.\"\n",
    "        \"3. Organizar os dados de forma clara para análise\"\n",
    "    ),\n",
    "    expected_output=\"Um documento estruturado contendo dados de mercado sobre {sector}\",\n",
    "    agent=pesquisador\n",
    ")"
   ]
  },
  {
   "cell_type": "code",
   "execution_count": 7,
   "metadata": {},
   "outputs": [],
   "source": [
    "analise_tendencias = Task(\n",
    "    description=(\n",
    "        \"1. Examinar os dados coletados pelo Pesquisador de Mercado.\"\n",
    "        \"2. Identificar padrões, tendências emergentes e oportunidades no setor {sector}\"\n",
    "        \"3. Elaborar uma análise detalhada destacando os principais pontos.\"\n",
    "    ),\n",
    "    expected_output=\"Um relatório com insights e tendências baseados nos dados do setor {sector}\",\n",
    "    agent=analista\n",
    ")"
   ]
  },
  {
   "cell_type": "code",
   "execution_count": 8,
   "metadata": {},
   "outputs": [],
   "source": [
    "redacao_relatorio = Task(\n",
    "    description=(\n",
    "        \"1. Usar a análise de tendências para criar um relatório detalhado sobre {sector}.\"\n",
    "        \"2. Garantir que o relatório seja bem estruturado e compreensível.\"\n",
    "        \"3. Apresentar um resumo executivo e recomendações finais\"\n",
    "    ),\n",
    "    expected_output=\"Um relatório de análise de mercado em formato Markdown, pronto para leitura e apresentação.\",\n",
    "    agent=redator\n",
    ")"
   ]
  },
  {
   "cell_type": "code",
   "execution_count": 9,
   "metadata": {},
   "outputs": [],
   "source": [
    "crew = Crew(\n",
    "    agents = [pesquisador, analista, redator],\n",
    "    tasks = [coleta_dados, analise_tendencias, redacao_relatorio],\n",
    "    verbose = True\n",
    ")"
   ]
  },
  {
   "cell_type": "code",
   "execution_count": 10,
   "metadata": {},
   "outputs": [
    {
     "data": {
      "text/plain": [
       "Crew(id=709d7b1c-072b-4007-8da2-5d2036c46c0e, process=Process.sequential, number_of_agents=3, number_of_tasks=3)"
      ]
     },
     "execution_count": 10,
     "metadata": {},
     "output_type": "execute_result"
    }
   ],
   "source": [
    " crew"
   ]
  },
  {
   "cell_type": "code",
   "execution_count": 11,
   "metadata": {},
   "outputs": [
    {
     "name": "stdout",
     "output_type": "stream",
     "text": [
      "\u001b[1m\u001b[94m \n",
      "[2025-03-13 12:46:14][🚀 CREW 'CREW' STARTED, 709D7B1C-072B-4007-8DA2-5D2036C46C0E]: 2025-03-13 12:46:14.015263\u001b[00m\n",
      "\u001b[1m\u001b[94m \n",
      "[2025-03-13 12:46:14][📋 TASK STARTED: 1. PESQUISAR E COLETAR INFORMAÇÕES ATUALIZADAS SOBRE E-COMMERCE.2. IDENTIFICAR OS PRINCIPAIS PLAYERS, TENDÊNCIAS E ESTATÍSTICAS DO SETOR.3. ORGANIZAR OS DADOS DE FORMA CLARA PARA ANÁLISE]: 2025-03-13 12:46:14.024642\u001b[00m\n",
      "\u001b[1m\u001b[94m \n",
      "[2025-03-13 12:46:14][🤖 AGENT 'PESQUISADOR DE MERCADO' STARTED TASK]: 2025-03-13 12:46:14.025653\u001b[00m\n",
      "\u001b[1m\u001b[95m# Agent:\u001b[00m \u001b[1m\u001b[92mPesquisador de Mercado\u001b[00m\n",
      "\u001b[95m## Task:\u001b[00m \u001b[92m1. Pesquisar e coletar informações atualizadas sobre E-commerce.2. Identificar os principais players, tendências e estatísticas do setor.3. Organizar os dados de forma clara para análise\u001b[00m\n",
      "\u001b[1m\u001b[94m \n",
      "[2025-03-13 12:46:14][🤖 LLM CALL STARTED]: 2025-03-13 12:46:14.025793\u001b[00m\n",
      "\u001b[1m\u001b[94m \n",
      "[2025-03-13 12:46:22][✅ LLM CALL COMPLETED]: 2025-03-13 12:46:22.917249\u001b[00m\n",
      "\n",
      "\n",
      "\u001b[1m\u001b[95m# Agent:\u001b[00m \u001b[1m\u001b[92mPesquisador de Mercado\u001b[00m\n",
      "\u001b[95m## Final Answer:\u001b[00m \u001b[92m\n",
      "Documento Estruturado sobre E-commerce:\n",
      "\n",
      "I. Introdução\n",
      "O E-commerce, ou comércio eletrônico, refere-se à compra e venda de bens ou serviços através da internet e à transferência de dinheiro e dados para executar essas transações. Nos últimos anos, o E-commerce tem crescido exponencialmente, impulsionado por avanços tecnológicos, mudanças nos comportamentos dos consumidores e a pandemia de COVID-19.\n",
      "\n",
      "II. Principais Players do E-commerce\n",
      "1. Amazon: Fundada por Jeff Bezos, a Amazon é uma das maiores empresas de E-commerce do mundo, oferecendo uma ampla variedade de produtos e serviços, incluindo market place, serviços de nuvem (AWS) e dispositivos eletrônicos.\n",
      "2. Alibaba: O gigante chinês fundado por Jack Ma domina o mercado asiático, possuindo várias plataformas como Alibaba.com, Taobao e Tmall.\n",
      "3. eBay: Plataforma de leilões e vendas diretas que atua globalmente, permitindo que consumidores e empresas vendam produtos novos e usados.\n",
      "4. Shopify: Empresa canadense que oferece uma plataforma de E-commerce para criar lojas online e sistemas de ponto de venda.\n",
      "5. Mercado Livre: Principal plataforma de E-commerce da América Latina, oferecendo marketplace, serviços financeiros e logística.\n",
      "6. Walmart: A gigante do varejo físico expandiu suas operações para o E-commerce, combinando sua ampla rede de lojas com uma forte presença online.\n",
      "\n",
      "III. Tendências do E-commerce\n",
      "1. Crescimento do M-commerce: O comércio móvel (M-commerce) está se expandindo rapidamente com o aumento do uso de smartphones para compras online.\n",
      "2. Integração de inteligência artificial: Ferramentas de IA estão sendo utilizadas para personalização de experiência, atendimento ao cliente e recomendações de produtos.\n",
      "3. Compras pelo Social Media: Plataformas como Instagram, Facebook e TikTok estão integrando funcionalidades de E-commerce, permitindo compras diretas.\n",
      "4. Sustentabilidade: Consumidores estão cada vez mais exigentes quanto à sustentabilidade, impulsionando práticas eco-friendly e opções de entrega verde.\n",
      "5. E-commerce transfronteiriço: Aumenta a tendência de consumidores comprarem de websites internacionais, ampliando o mercado potencial para vendedores.\n",
      "\n",
      "IV. Estatísticas do Setor\n",
      "1. Crescimento Global: De acordo com a Statista, as vendas globais de E-commerce atingiram cerca de 4.2 trilhões de dólares em 2020 e devem superar 6.5 trilhões de dólares até 2023.\n",
      "2. Participação no Varejo: As vendas de E-commerce representaram aproximadamente 14% de todas as vendas no varejo em 2020, com uma previsão para atingir cerca de 22% em 2023.\n",
      "3. Mercado Asiático: A Ásia-Pacífico lidera o E-commerce em termos de vendas, com a China respondendo por mais de 50% das vendas globais.\n",
      "4. Dispositivos Móveis: Estima-se que até 2023, 72% das vendas de E-commerce serão realizadas através de dispositivos móveis.\n",
      "\n",
      "V. Considerações Finais\n",
      "O E-commerce continua a evoluir rapidamente, impulsionado por inovações tecnológicas e mudanças nas preferências dos consumidores. Acompanhar as tendências emergentes e adaptar as estratégias às novas demandas do mercado é crucial para o sucesso das empresas neste setor dinâmico.\n",
      "\n",
      "Este documento fornece uma análise abrangente do estado atual e das tendências do E-commerce, oferecendo insights valiosos para empresas e pesquisadores.\u001b[00m\n",
      "\n",
      "\n",
      "\u001b[1m\u001b[94m \n",
      "[2025-03-13 12:46:22][✅ AGENT 'PESQUISADOR DE MERCADO' COMPLETED TASK]: 2025-03-13 12:46:22.917532\u001b[00m\n",
      "\u001b[1m\u001b[94m \n",
      "[2025-03-13 12:46:22][✅ TASK COMPLETED: 1. PESQUISAR E COLETAR INFORMAÇÕES ATUALIZADAS SOBRE E-COMMERCE.2. IDENTIFICAR OS PRINCIPAIS PLAYERS, TENDÊNCIAS E ESTATÍSTICAS DO SETOR.3. ORGANIZAR OS DADOS DE FORMA CLARA PARA ANÁLISE]: 2025-03-13 12:46:22.917594\u001b[00m\n",
      "\u001b[1m\u001b[94m \n",
      "[2025-03-13 12:46:22][📋 TASK STARTED: 1. EXAMINAR OS DADOS COLETADOS PELO PESQUISADOR DE MERCADO.2. IDENTIFICAR PADRÕES, TENDÊNCIAS EMERGENTES E OPORTUNIDADES NO SETOR E-COMMERCE3. ELABORAR UMA ANÁLISE DETALHADA DESTACANDO OS PRINCIPAIS PONTOS.]: 2025-03-13 12:46:22.919027\u001b[00m\n",
      "\u001b[1m\u001b[94m \n",
      "[2025-03-13 12:46:22][🤖 AGENT 'ANALISTA DE TENDÊNCIAS' STARTED TASK]: 2025-03-13 12:46:22.919611\u001b[00m\n",
      "\u001b[1m\u001b[95m# Agent:\u001b[00m \u001b[1m\u001b[92mAnalista de Tendências\u001b[00m\n",
      "\u001b[95m## Task:\u001b[00m \u001b[92m1. Examinar os dados coletados pelo Pesquisador de Mercado.2. Identificar padrões, tendências emergentes e oportunidades no setor E-commerce3. Elaborar uma análise detalhada destacando os principais pontos.\u001b[00m\n",
      "\u001b[1m\u001b[94m \n",
      "[2025-03-13 12:46:22][🤖 LLM CALL STARTED]: 2025-03-13 12:46:22.919673\u001b[00m\n",
      "\u001b[1m\u001b[94m \n",
      "[2025-03-13 12:46:35][✅ LLM CALL COMPLETED]: 2025-03-13 12:46:35.741669\u001b[00m\n",
      "\n",
      "\n",
      "\u001b[1m\u001b[95m# Agent:\u001b[00m \u001b[1m\u001b[92mAnalista de Tendências\u001b[00m\n",
      "\u001b[95m## Final Answer:\u001b[00m \u001b[92m\n",
      "Relatório de Análise de Tendências no Setor de E-commerce\n",
      "\n",
      "I. Introdução\n",
      "O E-commerce, ou comércio eletrônico, refere-se à compra e venda de bens ou serviços pela internet e à transferências de dinheiro e dados para executar essas transações. Nos últimos anos, o E-commerce tem crescido exponencialmente, impulsionado por avanços tecnológicos, mudanças nos comportamentos dos consumidores e a pandemia de COVID-19.\n",
      "\n",
      "II. Principais Players do E-commerce\n",
      "1. Amazon: Fundada por Jeff Bezos, a Amazon é uma das maiores empresas de E-commerce do mundo, oferecendo uma ampla variedade de produtos e serviços, incluindo marketplace, serviços de nuvem (AWS) e dispositivos eletrônicos.\n",
      "2. Alibaba: O gigante chinês fundado por Jack Ma domina o mercado asiático, possuindo várias plataformas como Alibaba.com, Taobao e Tmall.\n",
      "3. eBay: Plataforma de leilões e vendas diretas atuando globalmente, permitindo que consumidores e empresas vendam produtos novos e usados.\n",
      "4. Shopify: Empresa canadense que oferece uma plataforma de E-commerce para criação de lojas online e sistemas de ponto de venda.\n",
      "5. Mercado Livre: Principal plataforma de E-commerce na América Latina, oferecendo marketplace, serviços financeiros e logística.\n",
      "6. Walmart: A gigante do varejo físico expandiu suas operações para o E-commerce, combinando sua ampla rede de lojas com forte presença online.\n",
      "\n",
      "III. Tendências do E-commerce\n",
      "1. Crescimento do M-commerce: O comércio móvel (M-commerce) está se expandindo rapidamente com o aumento do uso de smartphones para compras online, proporcionando uma experiência de compra mais conveniente.\n",
      "2. Integração de inteligência artificial: Ferramentas de IA estão sendo utilizadas para personalização da experiência do usuário, suporte ao cliente e recomendações de produtos.\n",
      "3. Compras pelo Social Media: Plataformas como Instagram, Facebook e TikTok estão integrando funcionalidades de E-commerce, permitindo compras diretas dentro dos aplicativos.\n",
      "4. Sustentabilidade: Consumidores estão cada vez mais exigentes quanto à sustentabilidade, impulsionando práticas eco-friendly e opções de entrega verde.\n",
      "5. E-commerce transfronteiriço: Aumenta a tendência de consumidores comprarem de websites internacionais, ampliando o mercado potencial para vendedores, quebrando barreiras geográficas.\n",
      "\n",
      "IV. Estatísticas do Setor\n",
      "1. Crescimento Global: De acordo com a Statista, as vendas globais de E-commerce atingiram cerca de 4.2 trilhões de dólares em 2020 e devem superar 6.5 trilhões de dólares até 2023.\n",
      "2. Participação no Varejo: As vendas de E-commerce representaram aproximadamente 14% de todas as vendas no varejo em 2020, com previsão para atingir cerca de 22% em 2023.\n",
      "3. Mercado Asiático: A Ásia-Pacífico lidera o E-commerce em termos de vendas, com a China respondendo por mais de 50% das vendas globais.\n",
      "4. Dispositivos Móveis: Estima-se que até 2023, 72% das vendas de E-commerce serão realizadas através de dispositivos móveis.\n",
      "\n",
      "V. Considerações Finais\n",
      "O E-commerce continua a evoluir rapidamente, impulsionado por inovações tecnológicas e mudanças nas preferências dos consumidores. Acompanhar as tendências emergentes e adaptar as estratégias às novas demandas do mercado é crucial para o sucesso das empresas neste setor dinâmico.\n",
      "\n",
      "Este documento fornece uma análise abrangente do estado atual e das tendências do E-commerce, oferecendo insights valiosos para empresas e pesquisadores. A evolução contínua desse setor representa grandes oportunidades para empresas bem preparadas e adaptáveis às mudanças constantes do mercado.\n",
      "\n",
      "Além disso, o panorama observado evidencia a importância de estratégias focadas em M-commerce, utilização de inteligência artificial, sustentabilidade, e-commerce transfronteiriço, e a integração do comércio eletrónico com redes sociais. Organizações que conseguirem alinhar-se com essas tendências estão bem posicionadas para capturar uma participação significativa no mercado global de E-commerce.\n",
      "\n",
      "Recomendamos que as empresas monitorem constantemente as preferências dos consumidores, invistam em tecnologias emergentes e mantenham práticas sustentáveis para se destacarem na competitiva arena do E-commerce.\u001b[00m\n",
      "\n",
      "\n",
      "\u001b[1m\u001b[94m \n",
      "[2025-03-13 12:46:35][✅ AGENT 'ANALISTA DE TENDÊNCIAS' COMPLETED TASK]: 2025-03-13 12:46:35.743095\u001b[00m\n",
      "\u001b[1m\u001b[94m \n",
      "[2025-03-13 12:46:35][✅ TASK COMPLETED: 1. EXAMINAR OS DADOS COLETADOS PELO PESQUISADOR DE MERCADO.2. IDENTIFICAR PADRÕES, TENDÊNCIAS EMERGENTES E OPORTUNIDADES NO SETOR E-COMMERCE3. ELABORAR UMA ANÁLISE DETALHADA DESTACANDO OS PRINCIPAIS PONTOS.]: 2025-03-13 12:46:35.743354\u001b[00m\n",
      "\u001b[1m\u001b[94m \n",
      "[2025-03-13 12:46:35][📋 TASK STARTED: 1. USAR A ANÁLISE DE TENDÊNCIAS PARA CRIAR UM RELATÓRIO DETALHADO SOBRE E-COMMERCE.2. GARANTIR QUE O RELATÓRIO SEJA BEM ESTRUTURADO E COMPREENSÍVEL.3. APRESENTAR UM RESUMO EXECUTIVO E RECOMENDAÇÕES FINAIS]: 2025-03-13 12:46:35.746490\u001b[00m\n",
      "\u001b[1m\u001b[94m \n",
      "[2025-03-13 12:46:35][🤖 AGENT 'REDATOR DE RELATÓRIOS' STARTED TASK]: 2025-03-13 12:46:35.748451\u001b[00m\n",
      "\u001b[1m\u001b[95m# Agent:\u001b[00m \u001b[1m\u001b[92mRedator de Relatórios\u001b[00m\n",
      "\u001b[95m## Task:\u001b[00m \u001b[92m1. Usar a análise de tendências para criar um relatório detalhado sobre E-commerce.2. Garantir que o relatório seja bem estruturado e compreensível.3. Apresentar um resumo executivo e recomendações finais\u001b[00m\n",
      "\u001b[1m\u001b[94m \n",
      "[2025-03-13 12:46:35][🤖 LLM CALL STARTED]: 2025-03-13 12:46:35.748620\u001b[00m\n",
      "\u001b[1m\u001b[94m \n",
      "[2025-03-13 12:46:46][✅ LLM CALL COMPLETED]: 2025-03-13 12:46:46.492929\u001b[00m\n",
      "\n",
      "\n",
      "\u001b[1m\u001b[95m# Agent:\u001b[00m \u001b[1m\u001b[92mRedator de Relatórios\u001b[00m\n",
      "\u001b[95m## Final Answer:\u001b[00m \u001b[92m\n",
      "# Relatório de Análise de Tendências no Setor de E-commerce\n",
      "\n",
      "## I. Introdução\n",
      "O E-commerce, ou comércio eletrônico, refere-se à compra e venda de bens ou serviços através da internet e à transferência de dinheiro e dados para executar essas transações. Nos últimos anos, o E-commerce tem crescido exponencialmente, impulsionado por avanços tecnológicos, mudanças nos comportamentos dos consumidores e a pandemia de COVID-19.\n",
      "\n",
      "## II. Principais Players do E-commerce\n",
      "1. **Amazon**: Fundada por Jeff Bezos, a Amazon é uma das maiores empresas de E-commerce do mundo, oferecendo uma ampla variedade de produtos e serviços, incluindo marketplace, serviços de nuvem (AWS) e dispositivos eletrônicos.\n",
      "2. **Alibaba**: O gigante chinês fundado por Jack Ma domina o mercado asiático, possuindo várias plataformas como Alibaba.com, Taobao e Tmall.\n",
      "3. **eBay**: Plataforma de leilões e vendas diretas que atua globalmente, permitindo que consumidores e empresas vendam produtos novos e usados.\n",
      "4. **Shopify**: Empresa canadense que oferece uma plataforma de E-commerce para criar lojas online e sistemas de ponto de venda.\n",
      "5. **Mercado Livre**: Principal plataforma de E-commerce da América Latina, oferecendo marketplace, serviços financeiros e logística.\n",
      "6. **Walmart**: A gigante do varejo físico expandiu suas operações para o E-commerce, combinando sua ampla rede de lojas com uma forte presença online.\n",
      "\n",
      "## III. Tendências do E-commerce\n",
      "1. **Crescimento do M-commerce**: O comércio móvel (M-commerce) está se expandindo rapidamente com o aumento do uso de smartphones para compras online, proporcionando uma experiência de compra mais conveniente.\n",
      "2. **Integração de inteligência artificial**: Ferramentas de IA estão sendo utilizadas para personalização da experiência do usuário, suporte ao cliente e recomendações de produtos.\n",
      "3. **Compras pelo Social Media**: Plataformas como Instagram, Facebook e TikTok estão integrando funcionalidades de E-commerce, permitindo compras diretas dentro dos aplicativos.\n",
      "4. **Sustentabilidade**: Consumidores estão cada vez mais exigentes quanto à sustentabilidade, impulsionando práticas eco-friendly e opções de entrega verde.\n",
      "5. **E-commerce transfronteiriço**: Aumenta a tendência de consumidores comprarem de websites internacionais, ampliando o mercado potencial para vendedores, quebrando barreiras geográficas.\n",
      "\n",
      "## IV. Estatísticas do Setor\n",
      "1. **Crescimento Global**: De acordo com a Statista, as vendas globais de E-commerce atingiram cerca de 4.2 trilhões de dólares em 2020 e devem superar 6.5 trilhões de dólares até 2023.\n",
      "2. **Participação no Varejo**: As vendas de E-commerce representaram aproximadamente 14% de todas as vendas no varejo em 2020, com previsão para atingir cerca de 22% em 2023.\n",
      "3. **Mercado Asiático**: A Ásia-Pacífico lidera o E-commerce em termos de vendas, com a China respondendo por mais de 50% das vendas globais.\n",
      "4. **Dispositivos Móveis**: Estima-se que até 2023, 72% das vendas de E-commerce serão realizadas através de dispositivos móveis.\n",
      "\n",
      "## V. Considerações Finais\n",
      "O E-commerce continua a evoluir rapidamente, impulsionado por inovações tecnológicas e mudanças nas preferências dos consumidores. Acompanhar as tendências emergentes e adaptar as estratégias às novas demandas do mercado é crucial para o sucesso das empresas neste setor dinâmico.\n",
      "\n",
      "Este documento fornece uma análise abrangente do estado atual e das tendências do E-commerce, oferecendo insights valiosos para empresas e pesquisadores. A evolução contínua desse setor representa grandes oportunidades para empresas bem preparadas e adaptáveis às mudanças constantes do mercado.\n",
      "\n",
      "Além disso, o panorama observado evidencia a importância de estratégias focadas em M-commerce, utilização de inteligência artificial, sustentabilidade, E-commerce transfronteiriço, e a integração do comércio eletrônico com redes sociais. Organizações que conseguirem alinhar-se com essas tendências estão bem posicionadas para capturar uma participação significativa no mercado global de E-commerce.\n",
      "\n",
      "Recomendamos que as empresas monitorem constantemente as preferências dos consumidores, invistam em tecnologias emergentes e mantenham práticas sustentáveis para se destacarem na competitiva arena do E-commerce.\u001b[00m\n",
      "\n",
      "\n",
      "\u001b[1m\u001b[94m \n",
      "[2025-03-13 12:46:46][✅ AGENT 'REDATOR DE RELATÓRIOS' COMPLETED TASK]: 2025-03-13 12:46:46.494136\u001b[00m\n",
      "\u001b[1m\u001b[94m \n",
      "[2025-03-13 12:46:46][✅ TASK COMPLETED: 1. USAR A ANÁLISE DE TENDÊNCIAS PARA CRIAR UM RELATÓRIO DETALHADO SOBRE E-COMMERCE.2. GARANTIR QUE O RELATÓRIO SEJA BEM ESTRUTURADO E COMPREENSÍVEL.3. APRESENTAR UM RESUMO EXECUTIVO E RECOMENDAÇÕES FINAIS]: 2025-03-13 12:46:46.494352\u001b[00m\n",
      "\u001b[1m\u001b[94m \n",
      "[2025-03-13 12:46:46][✅ CREW 'CREW' COMPLETED, 709D7B1C-072B-4007-8DA2-5D2036C46C0E]: 2025-03-13 12:46:46.497830\u001b[00m\n"
     ]
    }
   ],
   "source": [
    "resultado = crew.kickoff(inputs={\"sector\": \"E-commerce\"})"
   ]
  },
  {
   "cell_type": "code",
   "execution_count": 74,
   "metadata": {},
   "outputs": [
    {
     "name": "stdout",
     "output_type": "stream",
     "text": [
      "```markdown\n",
      "# Relatório de Análise de Tendências no Setor de E-commerce\n",
      "\n",
      "## 1. Introdução\n",
      "O mercado de E-commerce tem crescido exponencialmente nos últimos anos, impulsionado pela conveniência das compras online e pela expansão da internet. Este documento apresenta uma análise abrangente das informações mais recentes sobre o setor, incluindo os principais players, tendências atuais e estatísticas relevantes.\n",
      "\n",
      "## 2. Principais Players do Mercado de E-commerce\n",
      "\n",
      "Os principais players do mercado de E-commerce são empresas que dominaram segmentos significativos do mercado global. Destacam-se:\n",
      "\n",
      "- **Amazon**: Líder global em comércio eletrônico, oferecendo uma vasta gama de produtos e serviços, incluindo o programa Prime, que contribui significativamente para a fidelidade dos clientes.\n",
      "- **Alibaba**: Gigante chinês do E-commerce, que opera através de plataformas como Taobao, Tmall e AliExpress, abarcando tanto o mercado interno quanto internacional.\n",
      "- **eBay**: Um dos pioneiros do E-commerce, a plataforma oferece leilões e vendas diretas de uma ampla variedade de produtos.\n",
      "- **JD.com**: Outra grande empresa chinesa, conhecida pelo seu extenso portfólio de produtos e pela sua eficiente rede logística.\n",
      "- **Walmart**: Com sua expertise em varejo físico, Walmart tem expandido significativamente sua presença online, principalmente no mercado norte-americano.\n",
      "- **Shopify**: Oferece uma plataforma para que pequenas e médias empresas criem suas próprias lojas online, desempenhando um papel crucial no suporte ao empreendedorismo.\n",
      "\n",
      "## 3. Tendências do Setor de E-commerce\n",
      "\n",
      "A seguir, são apresentadas as principais tendências que têm moldado o mercado de E-commerce em 2023:\n",
      "\n",
      "- **Omnicanalidade**: As empresas estão integrando suas operações online e offline para proporcionar uma experiência de compra uniforme aos consumidores. Exemplos incluem a opção de comprar online e retirar na loja física.\n",
      "- **Inteligência Artificial e Personalização**: Uso crescente de AI para oferecer recomendações personalizadas, melhorar a experiência do cliente e otimizar a gestão de inventário.\n",
      "- **Expansão da Mobilidade**: O aumento do uso de dispositivos móveis está impulsionando as vendas via aplicativos e websites mobile-friendly.\n",
      "- **E-commerce Verde**: A conscientização ambiental está levando ao surgimento de práticas sustentáveis, como embalagens recicláveis e logística mais ecológica.\n",
      "- **Pagamentos Digitais**: O crescimento de métodos de pagamento digitais, como carteiras digitais e criptomoedas, facilita transações mais rápidas e seguras.\n",
      "- **Realidade Aumentada (RA)**: A tecnologia de RA está sendo usada para melhorar a experiência de compra, permitindo que os clientes \"experimentem\" produtos virtualmente antes da compra.\n",
      "- **Social Commerce**: A integração de plataformas de mídia social com funcionalidades de E-commerce, permitindo compras diretas através de redes sociais como Instagram, Facebook e TikTok.\n",
      "\n",
      "## 4. Estatísticas do Setor de E-commerce\n",
      "\n",
      "- **Crescimento Global**: O mercado de E-commerce global continuou a crescer a taxas de dois dígitos. Em 2023, espera-se que o valor total das vendas online ultrapasse USD 5 trilhões.\n",
      "- **Penetração Online**: Aproximadamente 22% das vendas totais no varejo foram realizadas online em 2023.\n",
      "- **Mercados Emergentes**: Países como Índia, Brasil e Indonésia têm observado um crescimento robusto, impulsionado pela rápida adoção da internet e plataformas móveis.\n",
      "- **Faturamento por Setor**: Os setores de moda, eletrônicos, e alimentos e bebidas são os que mais faturam no ambiente online.\n",
      "\n",
      "## 5. Conclusão\n",
      "\n",
      "O mercado de E-commerce continua a apresentar grandes oportunidades de crescimento e inovação, impulsionado por avanços tecnológicos, mudanças nas preferências dos consumidores e o desenvolvimento de infraestrutura digital. As empresas bem-sucedidas serão aquelas que conseguirem se adaptar rapidamente a estas mudanças e oferecer uma experiência excepcional ao cliente em todos os canais de venda.\n",
      "\n",
      "---\n",
      "\n",
      "Este documento é uma síntese abrangente das tendências atuais e das forças que estão moldando o setor de E-commerce em 2023. Ele pode servir como um ponto de partida para análises mais detalhadas e para a formulação de estratégias empresariais.\n",
      "```\n"
     ]
    }
   ],
   "source": [
    "print(resultado.raw)"
   ]
  },
  {
   "cell_type": "code",
   "execution_count": 75,
   "metadata": {},
   "outputs": [],
   "source": [
    "from IPython.display import display, Markdown"
   ]
  },
  {
   "cell_type": "code",
   "execution_count": 76,
   "metadata": {},
   "outputs": [
    {
     "data": {
      "text/markdown": [
       "```markdown\n",
       "# Relatório de Análise de Tendências no Setor de E-commerce\n",
       "\n",
       "## 1. Introdução\n",
       "O mercado de E-commerce tem crescido exponencialmente nos últimos anos, impulsionado pela conveniência das compras online e pela expansão da internet. Este documento apresenta uma análise abrangente das informações mais recentes sobre o setor, incluindo os principais players, tendências atuais e estatísticas relevantes.\n",
       "\n",
       "## 2. Principais Players do Mercado de E-commerce\n",
       "\n",
       "Os principais players do mercado de E-commerce são empresas que dominaram segmentos significativos do mercado global. Destacam-se:\n",
       "\n",
       "- **Amazon**: Líder global em comércio eletrônico, oferecendo uma vasta gama de produtos e serviços, incluindo o programa Prime, que contribui significativamente para a fidelidade dos clientes.\n",
       "- **Alibaba**: Gigante chinês do E-commerce, que opera através de plataformas como Taobao, Tmall e AliExpress, abarcando tanto o mercado interno quanto internacional.\n",
       "- **eBay**: Um dos pioneiros do E-commerce, a plataforma oferece leilões e vendas diretas de uma ampla variedade de produtos.\n",
       "- **JD.com**: Outra grande empresa chinesa, conhecida pelo seu extenso portfólio de produtos e pela sua eficiente rede logística.\n",
       "- **Walmart**: Com sua expertise em varejo físico, Walmart tem expandido significativamente sua presença online, principalmente no mercado norte-americano.\n",
       "- **Shopify**: Oferece uma plataforma para que pequenas e médias empresas criem suas próprias lojas online, desempenhando um papel crucial no suporte ao empreendedorismo.\n",
       "\n",
       "## 3. Tendências do Setor de E-commerce\n",
       "\n",
       "A seguir, são apresentadas as principais tendências que têm moldado o mercado de E-commerce em 2023:\n",
       "\n",
       "- **Omnicanalidade**: As empresas estão integrando suas operações online e offline para proporcionar uma experiência de compra uniforme aos consumidores. Exemplos incluem a opção de comprar online e retirar na loja física.\n",
       "- **Inteligência Artificial e Personalização**: Uso crescente de AI para oferecer recomendações personalizadas, melhorar a experiência do cliente e otimizar a gestão de inventário.\n",
       "- **Expansão da Mobilidade**: O aumento do uso de dispositivos móveis está impulsionando as vendas via aplicativos e websites mobile-friendly.\n",
       "- **E-commerce Verde**: A conscientização ambiental está levando ao surgimento de práticas sustentáveis, como embalagens recicláveis e logística mais ecológica.\n",
       "- **Pagamentos Digitais**: O crescimento de métodos de pagamento digitais, como carteiras digitais e criptomoedas, facilita transações mais rápidas e seguras.\n",
       "- **Realidade Aumentada (RA)**: A tecnologia de RA está sendo usada para melhorar a experiência de compra, permitindo que os clientes \"experimentem\" produtos virtualmente antes da compra.\n",
       "- **Social Commerce**: A integração de plataformas de mídia social com funcionalidades de E-commerce, permitindo compras diretas através de redes sociais como Instagram, Facebook e TikTok.\n",
       "\n",
       "## 4. Estatísticas do Setor de E-commerce\n",
       "\n",
       "- **Crescimento Global**: O mercado de E-commerce global continuou a crescer a taxas de dois dígitos. Em 2023, espera-se que o valor total das vendas online ultrapasse USD 5 trilhões.\n",
       "- **Penetração Online**: Aproximadamente 22% das vendas totais no varejo foram realizadas online em 2023.\n",
       "- **Mercados Emergentes**: Países como Índia, Brasil e Indonésia têm observado um crescimento robusto, impulsionado pela rápida adoção da internet e plataformas móveis.\n",
       "- **Faturamento por Setor**: Os setores de moda, eletrônicos, e alimentos e bebidas são os que mais faturam no ambiente online.\n",
       "\n",
       "## 5. Conclusão\n",
       "\n",
       "O mercado de E-commerce continua a apresentar grandes oportunidades de crescimento e inovação, impulsionado por avanços tecnológicos, mudanças nas preferências dos consumidores e o desenvolvimento de infraestrutura digital. As empresas bem-sucedidas serão aquelas que conseguirem se adaptar rapidamente a estas mudanças e oferecer uma experiência excepcional ao cliente em todos os canais de venda.\n",
       "\n",
       "---\n",
       "\n",
       "Este documento é uma síntese abrangente das tendências atuais e das forças que estão moldando o setor de E-commerce em 2023. Ele pode servir como um ponto de partida para análises mais detalhadas e para a formulação de estratégias empresariais.\n",
       "```"
      ],
      "text/plain": [
       "<IPython.core.display.Markdown object>"
      ]
     },
     "metadata": {},
     "output_type": "display_data"
    }
   ],
   "source": [
    "display(Markdown(str(resultado)))"
   ]
  },
  {
   "cell_type": "code",
   "execution_count": 69,
   "metadata": {},
   "outputs": [],
   "source": [
    "import pdfkit\n",
    "\n",
    "with open(\"artigo.md\", \"w\", encoding=\"utf-8\") as file:\n",
    "    file.write(str(resultado))\n",
    "\n",
    "import markdown\n",
    "\n",
    "html = markdown.markdown(str(resultado))\n",
    "with open(\"artigo.html\", \"w\", encoding=\"utf-8\") as file:\n",
    "    file.write(html)"
   ]
  },
  {
   "cell_type": "code",
   "execution_count": null,
   "metadata": {},
   "outputs": [],
   "source": []
  }
 ],
 "metadata": {
  "kernelspec": {
   "display_name": ".venv",
   "language": "python",
   "name": "python3"
  },
  "language_info": {
   "codemirror_mode": {
    "name": "ipython",
    "version": 3
   },
   "file_extension": ".py",
   "mimetype": "text/x-python",
   "name": "python",
   "nbconvert_exporter": "python",
   "pygments_lexer": "ipython3",
   "version": "3.11.5"
  }
 },
 "nbformat": 4,
 "nbformat_minor": 4
}
